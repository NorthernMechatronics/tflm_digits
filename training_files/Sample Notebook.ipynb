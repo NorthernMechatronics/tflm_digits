{
 "cells": [
  {
   "cell_type": "code",
   "execution_count": 1,
   "id": "ef6012ff",
   "metadata": {},
   "outputs": [],
   "source": [
    "import numpy as np\n",
    "import pathlib\n",
    "import tensorflow as tf\n",
    "import keras\n",
    "\n",
    "from scipy.io import loadmat \n",
    "from sklearn.preprocessing import LabelEncoder\n",
    "from sklearn.model_selection import train_test_split\n",
    "\n",
    "from os.path import exists"
   ]
  },
  {
   "cell_type": "code",
   "execution_count": 2,
   "id": "7bb72132",
   "metadata": {},
   "outputs": [],
   "source": [
    "# DECLARATIONS\n",
    "FOLDER_TO_STORE_TF_MODELS = 'tf_end_models'\n",
    "FOLDER_OF_IMAGES = 'image_folder'\n",
    "NAME_OF_TF_MODEL = 'tf_model_sample'\n",
    "NAME_OF_TF_QUANT_MODEL = 'tf_quant_model_sample'\n",
    "\n",
    "# CONSTANTS\n",
    "MAIN_PATH = \"./\"\n",
    "FOLDER_OF_SVHN_MODELS = \"SVHN_dataset/\"\n",
    "NAME_OF_TRAIN_DS = 'train_32x32.mat'\n",
    "NAME_OF_TEST_DS = 'test_32x32.mat'"
   ]
  },
  {
   "cell_type": "code",
   "execution_count": 3,
   "id": "4ea01e6d",
   "metadata": {},
   "outputs": [],
   "source": [
    "def run_assertions():\n",
    "    assert exists(MAIN_PATH + FOLDER_OF_SVHN_MODELS + NAME_OF_TRAIN_DS)\n",
    "    assert exists(MAIN_PATH + FOLDER_OF_SVHN_MODELS + NAME_OF_TEST_DS)\n",
    "    assert len(FOLDER_TO_STORE_TF_MODELS) > 0\n",
    "    assert len(FOLDER_OF_IMAGES) > 0\n",
    "    assert len(NAME_OF_TF_MODEL) > 0\n",
    "    assert len(NAME_OF_TF_QUANT_MODEL) > 0\n",
    "    assert exists(MAIN_PATH + FOLDER_TO_STORE_TF_MODELS)"
   ]
  },
  {
   "cell_type": "code",
   "execution_count": 4,
   "id": "190a1183",
   "metadata": {},
   "outputs": [],
   "source": [
    "run_assertions()"
   ]
  },
  {
   "cell_type": "code",
   "execution_count": 5,
   "id": "c0c31ace",
   "metadata": {},
   "outputs": [],
   "source": [
    "train_raw = loadmat(MAIN_PATH + FOLDER_OF_SVHN_MODELS + NAME_OF_TRAIN_DS)\n",
    "test_raw = loadmat(MAIN_PATH + FOLDER_OF_SVHN_MODELS + NAME_OF_TEST_DS)"
   ]
  },
  {
   "cell_type": "code",
   "execution_count": 6,
   "id": "576e65ce",
   "metadata": {},
   "outputs": [],
   "source": [
    "train_images = np.array(train_raw['X'])\n",
    "test_images = np.array(test_raw['X'])\n",
    "\n",
    "train_labels = np.array(train_raw['y'])\n",
    "test_labels = np.array(test_raw['y'])"
   ]
  },
  {
   "cell_type": "code",
   "execution_count": 7,
   "id": "f1873632",
   "metadata": {},
   "outputs": [],
   "source": [
    "train_images = np.moveaxis(train_images, -1, 0)\n",
    "test_images = np.moveaxis(test_images, -1, 0)"
   ]
  },
  {
   "cell_type": "code",
   "execution_count": 8,
   "id": "2fa1433b",
   "metadata": {},
   "outputs": [],
   "source": [
    "train_images = train_images.astype('float32')\n",
    "test_images = test_images.astype('float32')"
   ]
  },
  {
   "cell_type": "raw",
   "id": "12452618",
   "metadata": {},
   "source": [
    "train_images /= 255.0\n",
    "test_images /= 255.0"
   ]
  },
  {
   "cell_type": "code",
   "execution_count": 9,
   "id": "f8d24047",
   "metadata": {},
   "outputs": [
    {
     "name": "stderr",
     "output_type": "stream",
     "text": [
      "/Library/Frameworks/Python.framework/Versions/3.9/lib/python3.9/site-packages/sklearn/utils/validation.py:63: DataConversionWarning: A column-vector y was passed when a 1d array was expected. Please change the shape of y to (n_samples, ), for example using ravel().\n",
      "  return f(*args, **kwargs)\n"
     ]
    }
   ],
   "source": [
    "le = LabelEncoder()\n",
    "train_labels = le.fit_transform(train_labels)\n",
    "test_labels = le.fit_transform(test_labels)"
   ]
  },
  {
   "cell_type": "code",
   "execution_count": 10,
   "id": "a5c554ba",
   "metadata": {},
   "outputs": [],
   "source": [
    "X_train, X_val, y_train, y_val = train_test_split(train_images, train_labels, test_size=0.20, random_state=15)"
   ]
  },
  {
   "cell_type": "code",
   "execution_count": null,
   "id": "552255d3",
   "metadata": {},
   "outputs": [],
   "source": []
  }
 ],
 "metadata": {
  "kernelspec": {
   "display_name": "Python 3 (ipykernel)",
   "language": "python",
   "name": "python3"
  },
  "language_info": {
   "codemirror_mode": {
    "name": "ipython",
    "version": 3
   },
   "file_extension": ".py",
   "mimetype": "text/x-python",
   "name": "python",
   "nbconvert_exporter": "python",
   "pygments_lexer": "ipython3",
   "version": "3.9.2"
  }
 },
 "nbformat": 4,
 "nbformat_minor": 5
}
