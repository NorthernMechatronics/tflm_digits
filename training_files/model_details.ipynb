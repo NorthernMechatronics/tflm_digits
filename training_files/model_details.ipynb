{
  "cells": [
    {
      "cell_type": "markdown",
      "metadata": {
        "id": "oEtNFmiOpuVr"
      },
      "source": [
        "# Determining The Model's Details\n",
        "\n",
        "Before attempting to run the model on a microcontroller, you **must** understand what the model can accept, particularly its input and output details.\n",
        "In general, this is possible through investigating the interpreter and see what details it provides about the tensors.\n",
        "\n",
        "This is a simple script that can be run as Python, on Colab or on Jupyter Notebook.\n",
        "\n",
        "For Colab, upload your .tflite file to the main folder. To do this:\n",
        "1. Click on the Folder icon on the left (below the {X} icon).\n",
        "2. Right click the area within Files and click Upload.\n",
        "3. Upload the file.\n",
        "\n",
        "To run the script, simply go to Runtime -> Run All."
      ]
    },
    {
      "cell_type": "code",
      "execution_count": null,
      "metadata": {
        "id": "5O0BFyvxvzhw"
      },
      "outputs": [],
      "source": [
        "import tensorflow as tf"
      ]
    },
    {
      "cell_type": "code",
      "execution_count": null,
      "metadata": {
        "id": "Hq9kwKU9CPfV"
      },
      "outputs": [],
      "source": [
        "tflite_model_quant = \"./insert_tflite_file_here.tflite\"\n",
        "IMG_WIDTH, IMG_HEIGHT = 32, 32"
      ]
    },
    {
      "cell_type": "code",
      "execution_count": null,
      "metadata": {
        "colab": {
          "base_uri": "https://localhost:8080/"
        },
        "id": "a-seiDlzCKpr",
        "outputId": "a776f63b-8c38-4811-9fa0-4d09bf5b7244"
      },
      "outputs": [],
      "source": [
        "interpreter_quant = tf.lite.Interpreter(model_path=tflite_model_quant)\n",
        "input_type = interpreter_quant.get_input_details()[0]['dtype']\n",
        "output_type = interpreter_quant.get_output_details()[0]['dtype']\n",
        "interpreter_quant.allocate_tensors()\n",
        "\n",
        "print(\"Input type: \", input_type)\n",
        "print(\"Output type: \", output_type)"
      ]
    },
    {
      "cell_type": "code",
      "execution_count": null,
      "metadata": {
        "colab": {
          "base_uri": "https://localhost:8080/"
        },
        "id": "RNXxtCE9mL8z",
        "outputId": "824fe3d0-cd76-45e5-fc7f-27105cf1b532"
      },
      "outputs": [],
      "source": [
        "input_details = interpreter_quant.get_input_details()[0]\n",
        "output_details = interpreter_quant.get_output_details()[0]\n",
        "\n",
        "print(\"Input details: \", input_details['shape'])\n",
        "print(\"Output details: \", output_details['shape'])\n",
        "\n",
        "tensor_details = interpreter_quant.get_signature_list()\n",
        "print(\"Tensor output details: \", tensor_details)"
      ]
    }
  ],
  "metadata": {
    "colab": {
      "provenance": []
    },
    "kernelspec": {
      "display_name": "Python 3",
      "name": "python3"
    },
    "language_info": {
      "codemirror_mode": {
        "name": "ipython",
        "version": 3
      },
      "file_extension": ".py",
      "mimetype": "text/x-python",
      "name": "python",
      "nbconvert_exporter": "python",
      "pygments_lexer": "ipython3",
      "version": "3.9.2"
    }
  },
  "nbformat": 4,
  "nbformat_minor": 0
}
